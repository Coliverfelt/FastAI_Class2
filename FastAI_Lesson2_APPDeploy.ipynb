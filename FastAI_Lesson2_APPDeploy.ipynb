{
  "nbformat": 4,
  "nbformat_minor": 0,
  "metadata": {
    "colab": {
      "provenance": []
    },
    "kernelspec": {
      "name": "python3",
      "display_name": "Python 3"
    },
    "language_info": {
      "name": "python"
    }
  },
  "cells": [
    {
      "cell_type": "code",
      "execution_count": 1,
      "metadata": {
        "id": "GwLz6zZgXQSO"
      },
      "outputs": [],
      "source": [
        "!pip install voila\n",
        "!jupyter serverextension enable --sys-prefix voila\n",
        "!pip install -Uqq duckduckgo_search"
      ]
    },
    {
      "cell_type": "code",
      "source": [
        "from google.colab import drive\n",
        "drive.mount('/content/gdrive')"
      ],
      "metadata": {
        "colab": {
          "base_uri": "https://localhost:8080/"
        },
        "id": "Q0xad5BSszGy",
        "outputId": "cb755cdf-09d8-409c-8ee3-52abc6a861e0"
      },
      "execution_count": 2,
      "outputs": [
        {
          "output_type": "stream",
          "name": "stdout",
          "text": [
            "Drive already mounted at /content/gdrive; to attempt to forcibly remount, call drive.mount(\"/content/gdrive\", force_remount=True).\n"
          ]
        }
      ]
    },
    {
      "cell_type": "code",
      "source": [
        "import fastai\n",
        "from fastai.vision.all import *\n",
        "from fastai.vision.widgets import ImageClassifierCleaner\n",
        "from fastdownload import download_url\n",
        "from duckduckgo_search import ddg_images\n",
        "from ipywidgets import widgets"
      ],
      "metadata": {
        "id": "7tm2FoI-Xov7"
      },
      "execution_count": 3,
      "outputs": []
    },
    {
      "cell_type": "code",
      "source": [
        "path_model = Path('/content/gdrive/MyDrive/Colab Notebooks/FastAI/Class 2')\n",
        "path_model.ls(file_exts='.pkl')"
      ],
      "metadata": {
        "colab": {
          "base_uri": "https://localhost:8080/"
        },
        "id": "rlZyxfz3aI2S",
        "outputId": "a4a68c7d-3151-4e60-8ed3-3927ea38d18d"
      },
      "execution_count": 4,
      "outputs": [
        {
          "output_type": "execute_result",
          "data": {
            "text/plain": [
              "(#1) [Path('/content/gdrive/MyDrive/Colab Notebooks/FastAI/Class 2/export.pkl')]"
            ]
          },
          "metadata": {},
          "execution_count": 4
        }
      ]
    },
    {
      "cell_type": "code",
      "source": [
        "learner_inf = load_learner(path_model/'export.pkl')"
      ],
      "metadata": {
        "id": "Ah_vhLgZZ1yS"
      },
      "execution_count": 5,
      "outputs": []
    },
    {
      "cell_type": "code",
      "source": [],
      "metadata": {
        "id": "P3wXa7eOaFn4"
      },
      "execution_count": 5,
      "outputs": []
    }
  ]
}